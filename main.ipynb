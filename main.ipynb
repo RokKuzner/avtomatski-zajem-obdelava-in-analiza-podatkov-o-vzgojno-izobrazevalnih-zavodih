{
 "cells": [
  {
   "cell_type": "code",
   "execution_count": 6,
   "id": "9b2897c8",
   "metadata": {},
   "outputs": [],
   "source": [
    "import db_management\n",
    "import db_manipulation as db\n",
    "import extract_basic_institution_info\n",
    "import find_events_page\n",
    "import time"
   ]
  },
  {
   "cell_type": "code",
   "execution_count": 7,
   "id": "0d1306d0",
   "metadata": {},
   "outputs": [],
   "source": [
    "# Extract institution's type, name, website and municipality\n",
    "extract_basic_institution_info.extract_information()"
   ]
  },
  {
   "cell_type": "code",
   "execution_count": null,
   "id": "e94d1a37",
   "metadata": {},
   "outputs": [],
   "source": [
    "# Extract the institution's events page\n",
    "vzgojno_izobrazevalni_zavodi = db.get_all_vzgojno_izobrazevalni_zavodi()\n",
    "\n",
    "for zavod in vzgojno_izobrazevalni_zavodi:\n",
    "    print(zavod[\"name\"])\n",
    "    check = db.get_events_page_url(zavod[\"id\"])\n",
    "    if check and check.strip():\n",
    "        print(\"    Already saved ⏩\")\n",
    "        continue\n",
    "\n",
    "    for i in range(3): # Attempt 3 times in case of error\n",
    "        try:\n",
    "            if zavod[\"website\"]:\n",
    "                events_page_url = find_events_page.find_events_page(zavod[\"website\"])\n",
    "            else:\n",
    "                events_page_url = \"\"\n",
    "            \n",
    "            print(f\"    Attempt {i+1}: ✅\")\n",
    "            break\n",
    "\n",
    "        except Exception as e:\n",
    "            events_page_url = \"\"\n",
    "            print(f\"    Attempt {i+1}: ❌\")\n",
    "            with open(\"logs.txt\", \"a\") as f:\n",
    "                f.write(zavod[\"name\"]+\"\\n\"+zavod[\"website\"]+\"\\n\"+str(e)+\"\\n\\n\\n\\n\")\n",
    "\n",
    "        time.sleep(3)\n",
    "\n",
    "    db.add_events_page_url(zavod[\"id\"], events_page_url)"
   ]
  }
 ],
 "metadata": {
  "kernelspec": {
   "display_name": "env",
   "language": "python",
   "name": "python3"
  },
  "language_info": {
   "codemirror_mode": {
    "name": "ipython",
    "version": 3
   },
   "file_extension": ".py",
   "mimetype": "text/x-python",
   "name": "python",
   "nbconvert_exporter": "python",
   "pygments_lexer": "ipython3",
   "version": "3.12.3"
  }
 },
 "nbformat": 4,
 "nbformat_minor": 5
}
