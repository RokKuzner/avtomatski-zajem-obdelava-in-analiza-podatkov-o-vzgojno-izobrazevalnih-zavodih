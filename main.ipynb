{
 "cells": [
  {
   "cell_type": "code",
   "execution_count": 1,
   "id": "9b2897c8",
   "metadata": {},
   "outputs": [],
   "source": [
    "import db_management\n",
    "import db_manipulation as db\n",
    "import extract_basic_institution_info\n",
    "import find_events_page"
   ]
  },
  {
   "cell_type": "code",
   "execution_count": null,
   "id": "0d1306d0",
   "metadata": {},
   "outputs": [],
   "source": [
    "extract_basic_institution_info.extract_information()"
   ]
  },
  {
   "cell_type": "code",
   "execution_count": null,
   "id": "e94d1a37",
   "metadata": {},
   "outputs": [],
   "source": [
    "vzgojno_izobrazevalni_zavodi = db.get_all_vzgojno_izobrazevalni_zavodi()\n",
    "\n",
    "for zavod in vzgojno_izobrazevalni_zavodi:\n",
    "    events_page_url = find_events_page.find_events_page(zavod[\"website\"])\n",
    "    if not events_page_url: events_page_url = \"\"\n",
    "\n",
    "    db.add_events_page_url(zavod[\"id\"], events_page_url)"
   ]
  }
 ],
 "metadata": {
  "kernelspec": {
   "display_name": "env",
   "language": "python",
   "name": "python3"
  },
  "language_info": {
   "codemirror_mode": {
    "name": "ipython",
    "version": 3
   },
   "file_extension": ".py",
   "mimetype": "text/x-python",
   "name": "python",
   "nbconvert_exporter": "python",
   "pygments_lexer": "ipython3",
   "version": "3.12.3"
  }
 },
 "nbformat": 4,
 "nbformat_minor": 5
}
